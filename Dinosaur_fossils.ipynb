{
 "cells": [
  {
   "cell_type": "code",
   "execution_count": 1,
   "metadata": {},
   "outputs": [],
   "source": [
    "# Import Dependencies\n",
    "import pandas as pd"
   ]
  },
  {
   "cell_type": "code",
   "execution_count": 2,
   "metadata": {},
   "outputs": [
    {
     "data": {
      "text/html": [
       "<div>\n",
       "<style scoped>\n",
       "    .dataframe tbody tr th:only-of-type {\n",
       "        vertical-align: middle;\n",
       "    }\n",
       "\n",
       "    .dataframe tbody tr th {\n",
       "        vertical-align: top;\n",
       "    }\n",
       "\n",
       "    .dataframe thead th {\n",
       "        text-align: right;\n",
       "    }\n",
       "</style>\n",
       "<table border=\"1\" class=\"dataframe\">\n",
       "  <thead>\n",
       "    <tr style=\"text-align: right;\">\n",
       "      <th></th>\n",
       "      <th>specimen_no</th>\n",
       "      <th>record_type</th>\n",
       "      <th>flags</th>\n",
       "      <th>occurrence_no</th>\n",
       "      <th>reid_no</th>\n",
       "      <th>collection_no</th>\n",
       "      <th>specimen_id</th>\n",
       "      <th>is_type</th>\n",
       "      <th>specelt_no</th>\n",
       "      <th>specimen_side</th>\n",
       "      <th>...</th>\n",
       "      <th>geogcomments</th>\n",
       "      <th>research_group</th>\n",
       "      <th>authorizer_no</th>\n",
       "      <th>enterer_no</th>\n",
       "      <th>modifier_no</th>\n",
       "      <th>authorizer</th>\n",
       "      <th>enterer</th>\n",
       "      <th>modifier</th>\n",
       "      <th>created</th>\n",
       "      <th>modified</th>\n",
       "    </tr>\n",
       "  </thead>\n",
       "  <tbody>\n",
       "    <tr>\n",
       "      <th>0</th>\n",
       "      <td>18592</td>\n",
       "      <td>spm</td>\n",
       "      <td>NaN</td>\n",
       "      <td>485130</td>\n",
       "      <td>0</td>\n",
       "      <td>48570</td>\n",
       "      <td>ANSP 9995</td>\n",
       "      <td>holotype</td>\n",
       "      <td>NaN</td>\n",
       "      <td>right</td>\n",
       "      <td>...</td>\n",
       "      <td>West Jersey Marl Company's Pit, about 2 miles ...</td>\n",
       "      <td>vertebrate</td>\n",
       "      <td>4</td>\n",
       "      <td>4</td>\n",
       "      <td>4</td>\n",
       "      <td>J. Alroy</td>\n",
       "      <td>J. Alroy</td>\n",
       "      <td>J. Alroy</td>\n",
       "      <td>2010-12-06 19:33:38</td>\n",
       "      <td>2010-12-16 16:53:51</td>\n",
       "    </tr>\n",
       "    <tr>\n",
       "      <th>1</th>\n",
       "      <td>18593</td>\n",
       "      <td>spm</td>\n",
       "      <td>NaN</td>\n",
       "      <td>485130</td>\n",
       "      <td>0</td>\n",
       "      <td>48570</td>\n",
       "      <td>ANSP 9995</td>\n",
       "      <td>holotype</td>\n",
       "      <td>NaN</td>\n",
       "      <td>right</td>\n",
       "      <td>...</td>\n",
       "      <td>West Jersey Marl Company's Pit, about 2 miles ...</td>\n",
       "      <td>vertebrate</td>\n",
       "      <td>4</td>\n",
       "      <td>4</td>\n",
       "      <td>4</td>\n",
       "      <td>J. Alroy</td>\n",
       "      <td>J. Alroy</td>\n",
       "      <td>J. Alroy</td>\n",
       "      <td>2010-12-06 19:33:38</td>\n",
       "      <td>2010-12-16 16:53:57</td>\n",
       "    </tr>\n",
       "    <tr>\n",
       "      <th>2</th>\n",
       "      <td>18594</td>\n",
       "      <td>spm</td>\n",
       "      <td>NaN</td>\n",
       "      <td>536124</td>\n",
       "      <td>13789</td>\n",
       "      <td>22648</td>\n",
       "      <td>AMNH 587</td>\n",
       "      <td>NaN</td>\n",
       "      <td>NaN</td>\n",
       "      <td>NaN</td>\n",
       "      <td>...</td>\n",
       "      <td>coordinates from K. Carpenter (pers. comm. to ...</td>\n",
       "      <td>vertebrate</td>\n",
       "      <td>4</td>\n",
       "      <td>4</td>\n",
       "      <td>0</td>\n",
       "      <td>J. Alroy</td>\n",
       "      <td>J. Alroy</td>\n",
       "      <td>NaN</td>\n",
       "      <td>2010-12-06 19:35:31</td>\n",
       "      <td>2010-12-06 02:35:31</td>\n",
       "    </tr>\n",
       "    <tr>\n",
       "      <th>3</th>\n",
       "      <td>18595</td>\n",
       "      <td>spm</td>\n",
       "      <td>NaN</td>\n",
       "      <td>536124</td>\n",
       "      <td>13789</td>\n",
       "      <td>22648</td>\n",
       "      <td>AMNH 587</td>\n",
       "      <td>NaN</td>\n",
       "      <td>NaN</td>\n",
       "      <td>NaN</td>\n",
       "      <td>...</td>\n",
       "      <td>coordinates from K. Carpenter (pers. comm. to ...</td>\n",
       "      <td>vertebrate</td>\n",
       "      <td>4</td>\n",
       "      <td>4</td>\n",
       "      <td>0</td>\n",
       "      <td>J. Alroy</td>\n",
       "      <td>J. Alroy</td>\n",
       "      <td>NaN</td>\n",
       "      <td>2010-12-06 19:35:31</td>\n",
       "      <td>2010-12-06 02:35:31</td>\n",
       "    </tr>\n",
       "    <tr>\n",
       "      <th>4</th>\n",
       "      <td>18596</td>\n",
       "      <td>spm</td>\n",
       "      <td>NaN</td>\n",
       "      <td>536124</td>\n",
       "      <td>13789</td>\n",
       "      <td>22648</td>\n",
       "      <td>AMNH 587</td>\n",
       "      <td>NaN</td>\n",
       "      <td>NaN</td>\n",
       "      <td>NaN</td>\n",
       "      <td>...</td>\n",
       "      <td>coordinates from K. Carpenter (pers. comm. to ...</td>\n",
       "      <td>vertebrate</td>\n",
       "      <td>4</td>\n",
       "      <td>4</td>\n",
       "      <td>0</td>\n",
       "      <td>J. Alroy</td>\n",
       "      <td>J. Alroy</td>\n",
       "      <td>NaN</td>\n",
       "      <td>2010-12-06 19:35:31</td>\n",
       "      <td>2010-12-06 02:35:31</td>\n",
       "    </tr>\n",
       "  </tbody>\n",
       "</table>\n",
       "<p>5 rows × 47 columns</p>\n",
       "</div>"
      ],
      "text/plain": [
       "   specimen_no record_type  flags  occurrence_no  reid_no  collection_no  \\\n",
       "0        18592         spm    NaN         485130        0          48570   \n",
       "1        18593         spm    NaN         485130        0          48570   \n",
       "2        18594         spm    NaN         536124    13789          22648   \n",
       "3        18595         spm    NaN         536124    13789          22648   \n",
       "4        18596         spm    NaN         536124    13789          22648   \n",
       "\n",
       "  specimen_id   is_type  specelt_no specimen_side  ...  \\\n",
       "0   ANSP 9995  holotype         NaN         right  ...   \n",
       "1   ANSP 9995  holotype         NaN         right  ...   \n",
       "2    AMNH 587       NaN         NaN           NaN  ...   \n",
       "3    AMNH 587       NaN         NaN           NaN  ...   \n",
       "4    AMNH 587       NaN         NaN           NaN  ...   \n",
       "\n",
       "                                        geogcomments  research_group  \\\n",
       "0  West Jersey Marl Company's Pit, about 2 miles ...      vertebrate   \n",
       "1  West Jersey Marl Company's Pit, about 2 miles ...      vertebrate   \n",
       "2  coordinates from K. Carpenter (pers. comm. to ...      vertebrate   \n",
       "3  coordinates from K. Carpenter (pers. comm. to ...      vertebrate   \n",
       "4  coordinates from K. Carpenter (pers. comm. to ...      vertebrate   \n",
       "\n",
       "   authorizer_no enterer_no  modifier_no authorizer   enterer  modifier  \\\n",
       "0              4          4            4   J. Alroy  J. Alroy  J. Alroy   \n",
       "1              4          4            4   J. Alroy  J. Alroy  J. Alroy   \n",
       "2              4          4            0   J. Alroy  J. Alroy       NaN   \n",
       "3              4          4            0   J. Alroy  J. Alroy       NaN   \n",
       "4              4          4            0   J. Alroy  J. Alroy       NaN   \n",
       "\n",
       "               created             modified  \n",
       "0  2010-12-06 19:33:38  2010-12-16 16:53:51  \n",
       "1  2010-12-06 19:33:38  2010-12-16 16:53:57  \n",
       "2  2010-12-06 19:35:31  2010-12-06 02:35:31  \n",
       "3  2010-12-06 19:35:31  2010-12-06 02:35:31  \n",
       "4  2010-12-06 19:35:31  2010-12-06 02:35:31  \n",
       "\n",
       "[5 rows x 47 columns]"
      ]
     },
     "execution_count": 2,
     "metadata": {},
     "output_type": "execute_result"
    }
   ],
   "source": [
    "# Read CSV file\n",
    "dinosaur_path = \"Resources/dinosaurs_data.csv\"\n",
    "dinosaurs_df = pd.read_csv(dinosaur_path)\n",
    "dinosaurs_df.head()"
   ]
  },
  {
   "cell_type": "code",
   "execution_count": 3,
   "metadata": {},
   "outputs": [
    {
     "data": {
      "text/plain": [
       "Index(['specimen_no', 'record_type', 'flags', 'occurrence_no', 'reid_no',\n",
       "       'collection_no', 'specimen_id', 'is_type', 'specelt_no',\n",
       "       'specimen_side', 'specimen_part', 'specimen_sex', 'n_measured',\n",
       "       'measurement_source', 'magnification', 'comments', 'accepted_name',\n",
       "       'accepted_rank', 'accepted_no', 'max_ma', 'min_ma', 'ref_author',\n",
       "       'ref_pubyr', 'reference_no', 'phylum', 'class', 'order', 'family',\n",
       "       'genus', 'lng', 'lat', 'cc', 'state', 'county', 'latlng_basis',\n",
       "       'latlng_precision', 'geogscale', 'geogcomments', 'research_group',\n",
       "       'authorizer_no', 'enterer_no', 'modifier_no', 'authorizer', 'enterer',\n",
       "       'modifier', 'created', 'modified'],\n",
       "      dtype='object')"
      ]
     },
     "execution_count": 3,
     "metadata": {},
     "output_type": "execute_result"
    }
   ],
   "source": [
    "# Show all column names\n",
    "dinosaurs_df.columns"
   ]
  },
  {
   "cell_type": "code",
   "execution_count": 4,
   "metadata": {},
   "outputs": [],
   "source": [
    "# Create df with columns that we need\n",
    "dino_df = dinosaurs_df[['specimen_no', 'specimen_id', 'specimen_part', 'accepted_name', 'class', 'order', 'family', 'genus', 'lng', 'lat', 'cc', 'state']]"
   ]
  },
  {
   "cell_type": "code",
   "execution_count": 5,
   "metadata": {},
   "outputs": [
    {
     "name": "stderr",
     "output_type": "stream",
     "text": [
      "C:\\Users\\fkmaa\\anaconda3\\envs\\PythonData\\lib\\site-packages\\ipykernel_launcher.py:2: SettingWithCopyWarning: \n",
      "A value is trying to be set on a copy of a slice from a DataFrame\n",
      "\n",
      "See the caveats in the documentation: https://pandas.pydata.org/pandas-docs/stable/user_guide/indexing.html#returning-a-view-versus-a-copy\n",
      "  \n"
     ]
    }
   ],
   "source": [
    "# Drop all NaN's\n",
    "dino_df.dropna(how='any', inplace = True)"
   ]
  },
  {
   "cell_type": "code",
   "execution_count": 6,
   "metadata": {},
   "outputs": [
    {
     "name": "stderr",
     "output_type": "stream",
     "text": [
      "C:\\Users\\fkmaa\\anaconda3\\envs\\PythonData\\lib\\site-packages\\ipykernel_launcher.py:2: SettingWithCopyWarning: \n",
      "A value is trying to be set on a copy of a slice from a DataFrame\n",
      "\n",
      "See the caveats in the documentation: https://pandas.pydata.org/pandas-docs/stable/user_guide/indexing.html#returning-a-view-versus-a-copy\n",
      "  \n"
     ]
    },
    {
     "data": {
      "text/html": [
       "<div>\n",
       "<style scoped>\n",
       "    .dataframe tbody tr th:only-of-type {\n",
       "        vertical-align: middle;\n",
       "    }\n",
       "\n",
       "    .dataframe tbody tr th {\n",
       "        vertical-align: top;\n",
       "    }\n",
       "\n",
       "    .dataframe thead th {\n",
       "        text-align: right;\n",
       "    }\n",
       "</style>\n",
       "<table border=\"1\" class=\"dataframe\">\n",
       "  <thead>\n",
       "    <tr style=\"text-align: right;\">\n",
       "      <th></th>\n",
       "      <th>specimen_no</th>\n",
       "      <th>specimen_id</th>\n",
       "      <th>specimen_part</th>\n",
       "      <th>accepted_name</th>\n",
       "      <th>class</th>\n",
       "      <th>order</th>\n",
       "      <th>family</th>\n",
       "      <th>genus</th>\n",
       "      <th>lng</th>\n",
       "      <th>lat</th>\n",
       "      <th>cc</th>\n",
       "      <th>state</th>\n",
       "    </tr>\n",
       "  </thead>\n",
       "  <tbody>\n",
       "    <tr>\n",
       "      <th>0</th>\n",
       "      <td>18592</td>\n",
       "      <td>ANSP 9995</td>\n",
       "      <td>fibula</td>\n",
       "      <td>Dryptosaurus aquilunguis</td>\n",
       "      <td>Saurischia</td>\n",
       "      <td>Avetheropoda</td>\n",
       "      <td>NO_FAMILY_SPECIFIED</td>\n",
       "      <td>Dryptosaurus</td>\n",
       "      <td>-75.160278</td>\n",
       "      <td>39.732777</td>\n",
       "      <td>US</td>\n",
       "      <td>New Jersey</td>\n",
       "    </tr>\n",
       "    <tr>\n",
       "      <th>1</th>\n",
       "      <td>18593</td>\n",
       "      <td>ANSP 9995</td>\n",
       "      <td>tibia</td>\n",
       "      <td>Dryptosaurus aquilunguis</td>\n",
       "      <td>Saurischia</td>\n",
       "      <td>Avetheropoda</td>\n",
       "      <td>NO_FAMILY_SPECIFIED</td>\n",
       "      <td>Dryptosaurus</td>\n",
       "      <td>-75.160278</td>\n",
       "      <td>39.732777</td>\n",
       "      <td>US</td>\n",
       "      <td>New Jersey</td>\n",
       "    </tr>\n",
       "    <tr>\n",
       "      <th>2</th>\n",
       "      <td>18594</td>\n",
       "      <td>AMNH 587</td>\n",
       "      <td>fibula</td>\n",
       "      <td>Tanycolagreus topwilsoni</td>\n",
       "      <td>Saurischia</td>\n",
       "      <td>Avetheropoda</td>\n",
       "      <td>NO_FAMILY_SPECIFIED</td>\n",
       "      <td>Tanycolagreus</td>\n",
       "      <td>-106.048615</td>\n",
       "      <td>42.017776</td>\n",
       "      <td>US</td>\n",
       "      <td>Wyoming</td>\n",
       "    </tr>\n",
       "    <tr>\n",
       "      <th>3</th>\n",
       "      <td>18595</td>\n",
       "      <td>AMNH 587</td>\n",
       "      <td>tibia</td>\n",
       "      <td>Tanycolagreus topwilsoni</td>\n",
       "      <td>Saurischia</td>\n",
       "      <td>Avetheropoda</td>\n",
       "      <td>NO_FAMILY_SPECIFIED</td>\n",
       "      <td>Tanycolagreus</td>\n",
       "      <td>-106.048615</td>\n",
       "      <td>42.017776</td>\n",
       "      <td>US</td>\n",
       "      <td>Wyoming</td>\n",
       "    </tr>\n",
       "    <tr>\n",
       "      <th>4</th>\n",
       "      <td>18596</td>\n",
       "      <td>AMNH 587</td>\n",
       "      <td>fibula</td>\n",
       "      <td>Tanycolagreus topwilsoni</td>\n",
       "      <td>Saurischia</td>\n",
       "      <td>Avetheropoda</td>\n",
       "      <td>NO_FAMILY_SPECIFIED</td>\n",
       "      <td>Tanycolagreus</td>\n",
       "      <td>-106.048615</td>\n",
       "      <td>42.017776</td>\n",
       "      <td>US</td>\n",
       "      <td>Wyoming</td>\n",
       "    </tr>\n",
       "    <tr>\n",
       "      <th>...</th>\n",
       "      <td>...</td>\n",
       "      <td>...</td>\n",
       "      <td>...</td>\n",
       "      <td>...</td>\n",
       "      <td>...</td>\n",
       "      <td>...</td>\n",
       "      <td>...</td>\n",
       "      <td>...</td>\n",
       "      <td>...</td>\n",
       "      <td>...</td>\n",
       "      <td>...</td>\n",
       "      <td>...</td>\n",
       "    </tr>\n",
       "    <tr>\n",
       "      <th>480</th>\n",
       "      <td>97680</td>\n",
       "      <td>FMNH 7163</td>\n",
       "      <td>femur</td>\n",
       "      <td>Brontosaurus excelsus</td>\n",
       "      <td>Saurischia</td>\n",
       "      <td>NO_ORDER_SPECIFIED</td>\n",
       "      <td>Diplodocidae</td>\n",
       "      <td>Brontosaurus</td>\n",
       "      <td>-108.728699</td>\n",
       "      <td>39.128502</td>\n",
       "      <td>US</td>\n",
       "      <td>Colorado</td>\n",
       "    </tr>\n",
       "    <tr>\n",
       "      <th>481</th>\n",
       "      <td>142608</td>\n",
       "      <td>UMNH 5278</td>\n",
       "      <td>humerus</td>\n",
       "      <td>Ceratosaurus nasicornis</td>\n",
       "      <td>Saurischia</td>\n",
       "      <td>NO_ORDER_SPECIFIED</td>\n",
       "      <td>NO_FAMILY_SPECIFIED</td>\n",
       "      <td>Ceratosaurus</td>\n",
       "      <td>-110.687622</td>\n",
       "      <td>39.323990</td>\n",
       "      <td>US</td>\n",
       "      <td>Utah</td>\n",
       "    </tr>\n",
       "    <tr>\n",
       "      <th>482</th>\n",
       "      <td>142609</td>\n",
       "      <td>UMNH 5278</td>\n",
       "      <td>femur</td>\n",
       "      <td>Ceratosaurus nasicornis</td>\n",
       "      <td>Saurischia</td>\n",
       "      <td>NO_ORDER_SPECIFIED</td>\n",
       "      <td>NO_FAMILY_SPECIFIED</td>\n",
       "      <td>Ceratosaurus</td>\n",
       "      <td>-110.687622</td>\n",
       "      <td>39.323990</td>\n",
       "      <td>US</td>\n",
       "      <td>Utah</td>\n",
       "    </tr>\n",
       "    <tr>\n",
       "      <th>483</th>\n",
       "      <td>142610</td>\n",
       "      <td>UMNH 5278</td>\n",
       "      <td>tibia</td>\n",
       "      <td>Ceratosaurus nasicornis</td>\n",
       "      <td>Saurischia</td>\n",
       "      <td>NO_ORDER_SPECIFIED</td>\n",
       "      <td>NO_FAMILY_SPECIFIED</td>\n",
       "      <td>Ceratosaurus</td>\n",
       "      <td>-110.687622</td>\n",
       "      <td>39.323990</td>\n",
       "      <td>US</td>\n",
       "      <td>Utah</td>\n",
       "    </tr>\n",
       "    <tr>\n",
       "      <th>484</th>\n",
       "      <td>142611</td>\n",
       "      <td>UMNH 5278</td>\n",
       "      <td>fibula</td>\n",
       "      <td>Ceratosaurus nasicornis</td>\n",
       "      <td>Saurischia</td>\n",
       "      <td>NO_ORDER_SPECIFIED</td>\n",
       "      <td>NO_FAMILY_SPECIFIED</td>\n",
       "      <td>Ceratosaurus</td>\n",
       "      <td>-110.687622</td>\n",
       "      <td>39.323990</td>\n",
       "      <td>US</td>\n",
       "      <td>Utah</td>\n",
       "    </tr>\n",
       "  </tbody>\n",
       "</table>\n",
       "<p>455 rows × 12 columns</p>\n",
       "</div>"
      ],
      "text/plain": [
       "     specimen_no specimen_id specimen_part             accepted_name  \\\n",
       "0          18592   ANSP 9995        fibula  Dryptosaurus aquilunguis   \n",
       "1          18593   ANSP 9995         tibia  Dryptosaurus aquilunguis   \n",
       "2          18594    AMNH 587        fibula  Tanycolagreus topwilsoni   \n",
       "3          18595    AMNH 587         tibia  Tanycolagreus topwilsoni   \n",
       "4          18596    AMNH 587        fibula  Tanycolagreus topwilsoni   \n",
       "..           ...         ...           ...                       ...   \n",
       "480        97680   FMNH 7163         femur     Brontosaurus excelsus   \n",
       "481       142608   UMNH 5278       humerus   Ceratosaurus nasicornis   \n",
       "482       142609   UMNH 5278         femur   Ceratosaurus nasicornis   \n",
       "483       142610   UMNH 5278         tibia   Ceratosaurus nasicornis   \n",
       "484       142611   UMNH 5278        fibula   Ceratosaurus nasicornis   \n",
       "\n",
       "          class               order               family          genus  \\\n",
       "0    Saurischia        Avetheropoda  NO_FAMILY_SPECIFIED   Dryptosaurus   \n",
       "1    Saurischia        Avetheropoda  NO_FAMILY_SPECIFIED   Dryptosaurus   \n",
       "2    Saurischia        Avetheropoda  NO_FAMILY_SPECIFIED  Tanycolagreus   \n",
       "3    Saurischia        Avetheropoda  NO_FAMILY_SPECIFIED  Tanycolagreus   \n",
       "4    Saurischia        Avetheropoda  NO_FAMILY_SPECIFIED  Tanycolagreus   \n",
       "..          ...                 ...                  ...            ...   \n",
       "480  Saurischia  NO_ORDER_SPECIFIED         Diplodocidae   Brontosaurus   \n",
       "481  Saurischia  NO_ORDER_SPECIFIED  NO_FAMILY_SPECIFIED   Ceratosaurus   \n",
       "482  Saurischia  NO_ORDER_SPECIFIED  NO_FAMILY_SPECIFIED   Ceratosaurus   \n",
       "483  Saurischia  NO_ORDER_SPECIFIED  NO_FAMILY_SPECIFIED   Ceratosaurus   \n",
       "484  Saurischia  NO_ORDER_SPECIFIED  NO_FAMILY_SPECIFIED   Ceratosaurus   \n",
       "\n",
       "            lng        lat  cc       state  \n",
       "0    -75.160278  39.732777  US  New Jersey  \n",
       "1    -75.160278  39.732777  US  New Jersey  \n",
       "2   -106.048615  42.017776  US     Wyoming  \n",
       "3   -106.048615  42.017776  US     Wyoming  \n",
       "4   -106.048615  42.017776  US     Wyoming  \n",
       "..          ...        ...  ..         ...  \n",
       "480 -108.728699  39.128502  US    Colorado  \n",
       "481 -110.687622  39.323990  US        Utah  \n",
       "482 -110.687622  39.323990  US        Utah  \n",
       "483 -110.687622  39.323990  US        Utah  \n",
       "484 -110.687622  39.323990  US        Utah  \n",
       "\n",
       "[455 rows x 12 columns]"
      ]
     },
     "execution_count": 6,
     "metadata": {},
     "output_type": "execute_result"
    }
   ],
   "source": [
    "# Drop all duplicates, if exist\n",
    "dino_df.drop_duplicates(inplace = True)\n",
    "dino_df"
   ]
  },
  {
   "cell_type": "code",
   "execution_count": 7,
   "metadata": {},
   "outputs": [],
   "source": [
    "# Rename columns\n",
    "dino_df = dino_df.rename(columns={'accepted_name': 'specimen_name', 'cc': 'country', 'class': 'specimen_class', 'order': 'specimen_order', 'family': 'specimen_family', 'genus': 'specimen_genus'})"
   ]
  },
  {
   "cell_type": "code",
   "execution_count": 8,
   "metadata": {},
   "outputs": [
    {
     "data": {
      "text/plain": [
       "array(['fibula', 'tibia', 'femur', 'ulna', 'radius', 'humerus', 'scapula',\n",
       "       'coracoid', 'ilium', 'ischium', 'pubis', 'metatarsus', 'skull',\n",
       "       'scapulacoracoid', 'fibual', 'scapulocoracoid', '? ulna'],\n",
       "      dtype=object)"
      ]
     },
     "execution_count": 8,
     "metadata": {},
     "output_type": "execute_result"
    }
   ],
   "source": [
    "# Show all unique names in row\n",
    "dino_df['specimen_part'].unique()"
   ]
  },
  {
   "cell_type": "code",
   "execution_count": 9,
   "metadata": {},
   "outputs": [
    {
     "data": {
      "text/plain": [
       "array(['Dryptosaurus aquilunguis', 'Tanycolagreus topwilsoni',\n",
       "       'Tyrannosaurus rex', 'Microvenator celer', 'Hadrosaurus foulkii',\n",
       "       'Anatotitan copei', 'Acrocanthosaurus atokensis',\n",
       "       'Thescelosaurus neglectus', 'Leptoceratops gracilis',\n",
       "       'Montanoceratops cerorhynchus', 'Stegosaurus stenops',\n",
       "       'Avaceratops lammersi', 'Bistahieversor sealeyi',\n",
       "       'Troodon formosus', 'Allosaurus fragilis', 'Diplodocus longus',\n",
       "       'Diplodocus carnegii', 'Brontosaurus excelsus',\n",
       "       'Edmontosaurus annectens', 'Titanoceratops ouranos',\n",
       "       'Sonorasaurus thompsoni', 'Cerasinops hodgskissi',\n",
       "       'Triceratops horridus', 'Camarasaurus grandis',\n",
       "       'Camarasaurus supremus', 'Camptosaurus dispar',\n",
       "       'Stegosaurus ungulatus', 'Dryosaurus altus', 'Brontosaurus parvus',\n",
       "       'Torosaurus utahensis', 'Parasaurolophus cyrtocristatus',\n",
       "       'Avisaurus archibaldi', 'Alamosaurus sanjuanensis',\n",
       "       'Orodromeus makelai', 'Nanosaurus agilis', 'Bambiraptor feinbergi',\n",
       "       'Ceratosaurus nasicornis', 'Ornitholestes hermanni',\n",
       "       'Brachiosaurus altithorax', 'Animantarx ramaljonesi',\n",
       "       'Dystrophaeus viaemalae', 'Gryposaurus notabilis',\n",
       "       'Amphicoelias brontodiplodocus', 'Corythosaurus casuarius',\n",
       "       'Tenontosaurus dossi', 'Deinonychus antirrhopus',\n",
       "       'Ankylosaurus magniventris', 'Sauropelta edwardsorum',\n",
       "       'Aletopelta coombsi', 'Monoclonius crassus', 'Barosaurus lentus',\n",
       "       'Galeamopus hayi', 'Sauroposeidon proteles',\n",
       "       'Amphicoelias emilieae', 'Tawa hallae', 'Gojirasaurus quayi',\n",
       "       'Podokesaurus holyokensis', 'Segisaurus halli', 'Coelurus agilis',\n",
       "       'Appalachiosaurus montgomeriensis', 'Falcarius utahensis',\n",
       "       'Nothronychus mckinleyi', 'Nothronychus graffami',\n",
       "       'Saurornitholestes langstoni', 'Utahraptor ostrommaysi',\n",
       "       'Talos sampsoni', 'Venenosaurus dicrocei', 'Supersaurus vivianae',\n",
       "       'Haplocanthosaurus priscus', 'Apatosaurus ajax',\n",
       "       'Diabloceratops eatoni', 'Cedarpelta bilbeyhallorum',\n",
       "       'Gastonia burgei', 'Niobrarasaurus coleii',\n",
       "       'Propanoplosaurus marylandicus', 'Peloroplites cedrimontanus',\n",
       "       'Pawpawsaurus campbelli', 'Silvisaurus condrayi',\n",
       "       'Dryosaurus elderae', 'Oryctodromeus cubicularis',\n",
       "       'Hippodraco scutodens', 'Iguanacolossus fortis',\n",
       "       'Planicoxa venenica', 'Protohadros byrdi',\n",
       "       'Gryposaurus monumentensis', 'Gryposaurus latidens'], dtype=object)"
      ]
     },
     "execution_count": 9,
     "metadata": {},
     "output_type": "execute_result"
    }
   ],
   "source": [
    "# Show all unique names in row\n",
    "dino_df['specimen_name'].unique()"
   ]
  },
  {
   "cell_type": "code",
   "execution_count": 10,
   "metadata": {},
   "outputs": [
    {
     "data": {
      "text/plain": [
       "array(['Saurischia', 'Ornithischia', 'Aves'], dtype=object)"
      ]
     },
     "execution_count": 10,
     "metadata": {},
     "output_type": "execute_result"
    }
   ],
   "source": [
    "#Show all unique names in row\n",
    "dino_df['specimen_class'].unique()"
   ]
  },
  {
   "cell_type": "code",
   "execution_count": 11,
   "metadata": {},
   "outputs": [
    {
     "data": {
      "text/plain": [
       "array(['Avetheropoda', 'NO_ORDER_SPECIFIED'], dtype=object)"
      ]
     },
     "execution_count": 11,
     "metadata": {},
     "output_type": "execute_result"
    }
   ],
   "source": [
    "#Show all unique names in row\n",
    "dino_df['specimen_order'].unique()"
   ]
  },
  {
   "cell_type": "code",
   "execution_count": 12,
   "metadata": {},
   "outputs": [
    {
     "data": {
      "text/plain": [
       "array(['NO_FAMILY_SPECIFIED', 'Tyrannosauridae', 'Caenagnathidae',\n",
       "       'Hadrosauridae', 'Carcharodontosauridae', 'Leptoceratopsidae',\n",
       "       'Stegosauridae', 'Ceratopsidae', 'Troodontidae', 'Allosauridae',\n",
       "       'Diplodocidae', 'Brachiosauridae', 'Camarasauridae',\n",
       "       'Dryosauridae', 'Avisauridae', 'Dromaeosauridae',\n",
       "       'Compsognathidae', 'Nodosauridae', 'Ankylosauridae',\n",
       "       'Dicraeosauridae', 'Coelophysidae', 'Therizinosauridae',\n",
       "       'Polacanthidae'], dtype=object)"
      ]
     },
     "execution_count": 12,
     "metadata": {},
     "output_type": "execute_result"
    }
   ],
   "source": [
    "#Show all unique names in row \n",
    "dino_df['specimen_family'].unique()"
   ]
  },
  {
   "cell_type": "code",
   "execution_count": 13,
   "metadata": {},
   "outputs": [
    {
     "data": {
      "text/plain": [
       "array(['fibula', 'tibia', 'femur', 'ulna', 'radius', 'humerus', 'scapula',\n",
       "       'coracoid', 'ilium', 'ischium', 'pubis', 'metatarsus', 'skull',\n",
       "       'scapulacoracoid', 'fibual', 'scapulocoracoid'], dtype=object)"
      ]
     },
     "execution_count": 13,
     "metadata": {},
     "output_type": "execute_result"
    }
   ],
   "source": [
    "# Delete ? from 'ulna' part in one row\n",
    "dino_df['specimen_part'] = dino_df['specimen_part'].replace({'? ulna': 'ulna'})\n",
    "dino_df['specimen_part'].unique()"
   ]
  },
  {
   "cell_type": "code",
   "execution_count": 14,
   "metadata": {},
   "outputs": [
    {
     "data": {
      "text/plain": [
       "array(['Avetheropoda', 'not specified'], dtype=object)"
      ]
     },
     "execution_count": 14,
     "metadata": {},
     "output_type": "execute_result"
    }
   ],
   "source": [
    "# Rename not specified rows\n",
    "dino_df['specimen_order'] = dino_df['specimen_order'].replace({'NO_ORDER_SPECIFIED': 'not specified'})\n",
    "dino_df['specimen_order'].unique()"
   ]
  },
  {
   "cell_type": "code",
   "execution_count": 15,
   "metadata": {},
   "outputs": [
    {
     "data": {
      "text/plain": [
       "array(['not specified', 'Tyrannosauridae', 'Caenagnathidae',\n",
       "       'Hadrosauridae', 'Carcharodontosauridae', 'Leptoceratopsidae',\n",
       "       'Stegosauridae', 'Ceratopsidae', 'Troodontidae', 'Allosauridae',\n",
       "       'Diplodocidae', 'Brachiosauridae', 'Camarasauridae',\n",
       "       'Dryosauridae', 'Avisauridae', 'Dromaeosauridae',\n",
       "       'Compsognathidae', 'Nodosauridae', 'Ankylosauridae',\n",
       "       'Dicraeosauridae', 'Coelophysidae', 'Therizinosauridae',\n",
       "       'Polacanthidae'], dtype=object)"
      ]
     },
     "execution_count": 15,
     "metadata": {},
     "output_type": "execute_result"
    }
   ],
   "source": [
    "# Rename not specified rows\n",
    "dino_df['specimen_family'] = dino_df['specimen_family'].replace({'NO_FAMILY_SPECIFIED': 'not specified'})\n",
    "dino_df['specimen_family'].unique()"
   ]
  },
  {
   "cell_type": "code",
   "execution_count": 16,
   "metadata": {},
   "outputs": [
    {
     "data": {
      "text/plain": [
       "specimen_no          int64\n",
       "specimen_id         object\n",
       "specimen_part       object\n",
       "specimen_name       object\n",
       "specimen_class      object\n",
       "specimen_order      object\n",
       "specimen_family     object\n",
       "specimen_genus      object\n",
       "lng                float64\n",
       "lat                float64\n",
       "country             object\n",
       "state               object\n",
       "dtype: object"
      ]
     },
     "execution_count": 16,
     "metadata": {},
     "output_type": "execute_result"
    }
   ],
   "source": [
    "# Checking data types to create a database according to that\n",
    "dino_df.dtypes"
   ]
  },
  {
   "cell_type": "code",
   "execution_count": 17,
   "metadata": {},
   "outputs": [
    {
     "data": {
      "text/plain": [
       "455"
      ]
     },
     "execution_count": 17,
     "metadata": {},
     "output_type": "execute_result"
    }
   ],
   "source": [
    "# Checking unique numbers to use it as a primary key for database\n",
    "dino_df['specimen_no'].nunique()"
   ]
  },
  {
   "cell_type": "code",
   "execution_count": 18,
   "metadata": {},
   "outputs": [],
   "source": [
    "# Creating connection with database, run it only after creating database in sql\n",
    "from sqlalchemy import create_engine"
   ]
  },
  {
   "cell_type": "code",
   "execution_count": 20,
   "metadata": {},
   "outputs": [
    {
     "ename": "SyntaxError",
     "evalue": "invalid character in identifier (config.py, line 1)",
     "output_type": "error",
     "traceback": [
      "Traceback \u001b[1;36m(most recent call last)\u001b[0m:\n",
      "  File \u001b[0;32m\"C:\\Users\\fkmaa\\anaconda3\\envs\\PythonData\\lib\\site-packages\\IPython\\core\\interactiveshell.py\"\u001b[0m, line \u001b[0;32m3343\u001b[0m, in \u001b[0;35mrun_code\u001b[0m\n    exec(code_obj, self.user_global_ns, self.user_ns)\n",
      "\u001b[1;36m  File \u001b[1;32m\"<ipython-input-20-1ad52da030a7>\"\u001b[1;36m, line \u001b[1;32m2\u001b[1;36m, in \u001b[1;35m<module>\u001b[1;36m\u001b[0m\n\u001b[1;33m    from config import user, password, host, port\u001b[0m\n",
      "\u001b[1;36m  File \u001b[1;32m\"C:\\Users\\fkmaa\\Desktop\\Dinosaur_Fossils_In_The_USA\\config.py\"\u001b[1;36m, line \u001b[1;32m1\u001b[0m\n\u001b[1;33m    user = ‘postgres’\u001b[0m\n\u001b[1;37m                    ^\u001b[0m\n\u001b[1;31mSyntaxError\u001b[0m\u001b[1;31m:\u001b[0m invalid character in identifier\n"
     ]
    }
   ],
   "source": [
    "# import info from config document\n",
    "from config import user, password, host, port"
   ]
  },
  {
   "cell_type": "code",
   "execution_count": null,
   "metadata": {},
   "outputs": [],
   "source": [
    "# connecting to database\n",
    "db = 'dino_db'\n",
    "rds_connection_string = f\"{user}:{password}@{host}:{port}/{db}\"\n",
    "engine = create_engine(f'postgresql://{rds_connection_string}')"
   ]
  },
  {
   "cell_type": "code",
   "execution_count": null,
   "metadata": {},
   "outputs": [],
   "source": [
    "# looking at tables in db\n",
    "engine.table_names()"
   ]
  },
  {
   "cell_type": "code",
   "execution_count": null,
   "metadata": {},
   "outputs": [],
   "source": [
    "# loading df to db\n",
    "dino_df.to_sql(name='dinosaur_fossils', con=engine, if_exists='append', index=False)"
   ]
  },
  {
   "cell_type": "code",
   "execution_count": null,
   "metadata": {},
   "outputs": [],
   "source": [
    "# reading loaded db\n",
    "pd.read_sql_query('select * from dinosaur_fossils', con=engine).head()"
   ]
  }
 ],
 "metadata": {
  "kernelspec": {
   "display_name": "Python 3",
   "language": "python",
   "name": "python3"
  },
  "language_info": {
   "codemirror_mode": {
    "name": "ipython",
    "version": 3
   },
   "file_extension": ".py",
   "mimetype": "text/x-python",
   "name": "python",
   "nbconvert_exporter": "python",
   "pygments_lexer": "ipython3",
   "version": "3.6.12"
  }
 },
 "nbformat": 4,
 "nbformat_minor": 4
}
